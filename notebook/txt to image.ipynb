{
 "cells": [
  {
   "cell_type": "code",
   "id": "initial_id",
   "metadata": {
    "collapsed": true,
    "ExecuteTime": {
     "end_time": "2024-05-27T14:29:58.533064Z",
     "start_time": "2024-05-27T14:29:58.277394Z"
    }
   },
   "source": [
    "import os\n",
    "import numpy as np\n",
    "import cv2"
   ],
   "outputs": [],
   "execution_count": 2
  },
  {
   "metadata": {
    "ExecuteTime": {
     "end_time": "2024-05-27T14:46:40.505791Z",
     "start_time": "2024-05-27T14:46:02.773550Z"
    }
   },
   "cell_type": "code",
   "source": [
    "\n",
    "# Paths\n",
    "folder_path = \"C:/Users/Seni/PycharmProjects/5hole/data_input/data\"\n",
    "output_txt = \"C:/Users/Seni/PycharmProjects/5hole/data_input/new_txt\"\n",
    "image_path = \"C:/Users/Seni/PycharmProjects/5hole/data_input/image\"\n",
    "\n",
    "# Step 1: Modify and save text files\n",
    "for i, filename in enumerate(os.listdir(folder_path)):\n",
    "    # Đường dẫn đầy đủ đến mục đích\n",
    "    file_path = os.path.join(folder_path, filename)\n",
    "    # Mở và đọc nội dung của mục đích\n",
    "    output_file_path = os.path.join(output_txt, filename)\n",
    "    with open(file_path, 'r', encoding='utf-16le') as input_file:\n",
    "        content = input_file.readlines()[16:]\n",
    "    if (i+1)%10==0:print(\"loading\",filename, i+1,\"/\",len(os.listdir(folder_path)))\n",
    "    with open(output_file_path, 'w', encoding='utf-8') as output_file:\n",
    "        output_file.writelines(content)\n",
    "print(0)"
   ],
   "id": "33fbfca2204236ac",
   "outputs": [
    {
     "name": "stdout",
     "output_type": "stream",
     "text": [
      "loading 0.05y-0.0500.txt 0 / 123\n",
      "loading 0.05y-0.1000.txt 1 / 123\n",
      "loading 0.05y-0.1500.txt 2 / 123\n",
      "loading 0.05y-0.2000.txt 3 / 123\n",
      "loading 0.05y-0.2500.txt 4 / 123\n",
      "loading 0.05y-0.3000.txt 5 / 123\n",
      "loading 0.05y-0.3500.txt 6 / 123\n",
      "loading 0.05y-0.4000.txt 7 / 123\n",
      "loading 0.05y-0.4500.txt 8 / 123\n",
      "loading 0.05y-0.5000.txt 9 / 123\n",
      "loading 0.05y-0.5500.txt 10 / 123\n",
      "loading 0.05y-0.6000.txt 11 / 123\n",
      "loading 0.05y-0.6500.txt 12 / 123\n",
      "loading 0.05y-0.7000.txt 13 / 123\n",
      "loading 0.05y-0.7500.txt 14 / 123\n",
      "loading 0.05y-0.8000.txt 15 / 123\n",
      "loading 0.05y-0.8500.txt 16 / 123\n",
      "loading 0.05y-0.9000.txt 17 / 123\n",
      "loading 0.05y-0.9500.txt 18 / 123\n",
      "loading 0.05y-1.0000.txt 19 / 123\n",
      "loading 0.05y0.0000.txt 20 / 123\n",
      "loading 0.05y0.0500.txt 21 / 123\n",
      "loading 0.05y0.1000.txt 22 / 123\n",
      "loading 0.05y0.1500.txt 23 / 123\n",
      "loading 0.05y0.2000.txt 24 / 123\n",
      "loading 0.05y0.2500.txt 25 / 123\n",
      "loading 0.05y0.3000.txt 26 / 123\n",
      "loading 0.05y0.3500.txt 27 / 123\n",
      "loading 0.05y0.4000.txt 28 / 123\n",
      "loading 0.05y0.4500.txt 29 / 123\n",
      "loading 0.05y0.5000.txt 30 / 123\n",
      "loading 0.05y0.5500.txt 31 / 123\n",
      "loading 0.05y0.6000.txt 32 / 123\n",
      "loading 0.05y0.6500.txt 33 / 123\n",
      "loading 0.05y0.7000.txt 34 / 123\n",
      "loading 0.05y0.7500.txt 35 / 123\n",
      "loading 0.05y0.8000.txt 36 / 123\n",
      "loading 0.05y0.8500.txt 37 / 123\n",
      "loading 0.05y0.9000.txt 38 / 123\n",
      "loading 0.05y0.9500.txt 39 / 123\n",
      "loading 0.05y1.0000.txt 40 / 123\n",
      "loading 0.1y-0.1000.txt 41 / 123\n",
      "loading 0.1y-0.2000.txt 42 / 123\n",
      "loading 0.1y-0.3000.txt 43 / 123\n",
      "loading 0.1y-0.4000.txt 44 / 123\n",
      "loading 0.1y-0.5000.txt 45 / 123\n",
      "loading 0.1y-0.6000.txt 46 / 123\n",
      "loading 0.1y-0.7000.txt 47 / 123\n",
      "loading 0.1y-0.8000.txt 48 / 123\n",
      "loading 0.1y-0.9000.txt 49 / 123\n",
      "loading 0.1y-1.0000.txt 50 / 123\n",
      "loading 0.1y-1.1000.txt 51 / 123\n",
      "loading 0.1y-1.2000.txt 52 / 123\n",
      "loading 0.1y-1.3000.txt 53 / 123\n",
      "loading 0.1y-1.4000.txt 54 / 123\n",
      "loading 0.1y-1.5000.txt 55 / 123\n",
      "loading 0.1y-1.6000.txt 56 / 123\n",
      "loading 0.1y-1.7000.txt 57 / 123\n",
      "loading 0.1y-1.8000.txt 58 / 123\n",
      "loading 0.1y-1.9000.txt 59 / 123\n",
      "loading 0.1y-2.0000.txt 60 / 123\n",
      "loading 0.1y0.0000.txt 61 / 123\n",
      "loading 0.1y0.2000.txt 62 / 123\n",
      "loading 0.1y0.3000.txt 63 / 123\n",
      "loading 0.1y0.4000.txt 64 / 123\n",
      "loading 0.1y0.5000.txt 65 / 123\n",
      "loading 0.1y0.6000.txt 66 / 123\n",
      "loading 0.1y0.7000.txt 67 / 123\n",
      "loading 0.1y0.8000.txt 68 / 123\n",
      "loading 0.1y0.9000.txt 69 / 123\n",
      "loading 0.1y1.0000.txt 70 / 123\n",
      "loading 0.1y1.1000.txt 71 / 123\n",
      "loading 0.1y1.2000.txt 72 / 123\n",
      "loading 0.1y1.3000.txt 73 / 123\n",
      "loading 0.1y1.4000.txt 74 / 123\n",
      "loading 0.1y1.5000.txt 75 / 123\n",
      "loading 0.1y1.6000.txt 76 / 123\n",
      "loading 0.1y1.7000.txt 77 / 123\n",
      "loading 0.1y1.8000.txt 78 / 123\n",
      "loading 0.1y1.9000.txt 79 / 123\n",
      "loading 0.1y2.0000.txt 80 / 123\n",
      "loading 1x0,5yz24.0200.txt 81 / 123\n",
      "loading 1x0,5yz24.0700.txt 82 / 123\n",
      "loading 1x0,5yz24.1200.txt 83 / 123\n",
      "loading 1x0,5yz24.1700.txt 84 / 123\n",
      "loading 1x0,5yz24.2200.txt 85 / 123\n",
      "loading 1x0,5yz24.2700.txt 86 / 123\n",
      "loading 1x0,5yz24.3200.txt 87 / 123\n",
      "loading 1x0,5yz24.3700.txt 88 / 123\n",
      "loading 1x0,5yz24.4200.txt 89 / 123\n",
      "loading 1x0,5yz24.4700.txt 90 / 123\n",
      "loading 1x0,5yz24.5200.txt 91 / 123\n",
      "loading 1x0,5yz24.5700.txt 92 / 123\n",
      "loading 1x0,5yz24.6200.txt 93 / 123\n",
      "loading 1x0,5yz24.6700.txt 94 / 123\n",
      "loading 1x0,5yz24.7200.txt 95 / 123\n",
      "loading 1x0,5yz24.7700.txt 96 / 123\n",
      "loading 1x0,5yz24.8200.txt 97 / 123\n",
      "loading 1x0,5yz24.8700.txt 98 / 123\n",
      "loading 1x0,5yz24.9200.txt 99 / 123\n",
      "loading 1x0,5yz24.9700.txt 100 / 123\n",
      "loading 1x0,5yz25.0200.txt 101 / 123\n",
      "loading z24.0700.txt 102 / 123\n",
      "loading z24.1200.txt 103 / 123\n",
      "loading z24.1700.txt 104 / 123\n",
      "loading z24.2200.txt 105 / 123\n",
      "loading z24.2700.txt 106 / 123\n",
      "loading z24.3200.txt 107 / 123\n",
      "loading z24.3700.txt 108 / 123\n",
      "loading z24.4200.txt 109 / 123\n",
      "loading z24.4700.txt 110 / 123\n",
      "loading z24.5200.txt 111 / 123\n",
      "loading z24.5700.txt 112 / 123\n",
      "loading z24.6200.txt 113 / 123\n",
      "loading z24.6700.txt 114 / 123\n",
      "loading z24.7200.txt 115 / 123\n",
      "loading z24.7700.txt 116 / 123\n",
      "loading z24.8200.txt 117 / 123\n",
      "loading z24.8700.txt 118 / 123\n",
      "loading z24.9200.txt 119 / 123\n",
      "loading z24.9700.txt 120 / 123\n",
      "loading z24_0200.txt 121 / 123\n",
      "loading z25.0200.txt 122 / 123\n",
      "0\n"
     ]
    }
   ],
   "execution_count": 23
  },
  {
   "metadata": {
    "ExecuteTime": {
     "end_time": "2024-05-27T14:50:02.509608Z",
     "start_time": "2024-05-27T14:48:51.985951Z"
    }
   },
   "cell_type": "code",
   "source": [
    "for i, filename in enumerate(os.listdir(folder_path)):\n",
    "    # Đường dẫn đầy đủ đến mục đích\n",
    "    file_path = os.path.join(output_txt, filename)\n",
    "    output_file_path = os.path.join(output_txt, filename)\n",
    "    with open(file_path, 'r') as input_file:\n",
    "        lines = input_file.readlines()[:]\n",
    "    modified_lines =  [line[0:].replace(\",\",\".\") for line in lines]\n",
    "    with open(output_file_path, 'w') as output_file:\n",
    "        output_file.writelines(modified_lines)\n",
    "    if (i+1)%10==0:print(\"Loanding\",i+1,\"/\",len(os.listdir(folder_path)))\n",
    "print(1)"
   ],
   "id": "d1d687d400d149c1",
   "outputs": [
    {
     "name": "stdout",
     "output_type": "stream",
     "text": [
      "Loanding 0 / 123\n",
      "Loanding 10 / 123\n",
      "Loanding 20 / 123\n",
      "Loanding 30 / 123\n",
      "Loanding 40 / 123\n",
      "Loanding 50 / 123\n",
      "Loanding 60 / 123\n",
      "Loanding 70 / 123\n",
      "Loanding 80 / 123\n",
      "Loanding 90 / 123\n",
      "Loanding 100 / 123\n",
      "Loanding 110 / 123\n",
      "Loanding 120 / 123\n",
      "1\n"
     ]
    }
   ],
   "execution_count": 24
  },
  {
   "metadata": {
    "ExecuteTime": {
     "end_time": "2024-05-27T14:54:44.109916Z",
     "start_time": "2024-05-27T14:51:38.702622Z"
    }
   },
   "cell_type": "code",
   "source": [
    "# Step 2: Normalize matrices and save\n",
    "for i, filename in enumerate(os.listdir(output_txt)):\n",
    "    file_path = os.path.join(output_txt, filename)\n",
    "    with open(file_path, 'r', encoding='utf-8') as file:\n",
    "        matrix = np.loadtxt(file)\n",
    "    # Normalize the matrix to have integer values with a maximum of 255\n",
    "    max_value = np.max(matrix)\n",
    "    normalized_matrix = (matrix / max_value * 255).astype(int)\n",
    "    # Save the normalized matrix to the same text file\n",
    "    np.savetxt(file_path, normalized_matrix, fmt='%d')\n",
    "    if (i+1)%10==0:print(\"Loanding\",i+1,\"/\",len(os.listdir(output_txt)))\n",
    "print(2)"
   ],
   "id": "67be6d2686ec2bd8",
   "outputs": [
    {
     "name": "stdout",
     "output_type": "stream",
     "text": [
      "Loanding 10 / 123\n",
      "Loanding 20 / 123\n",
      "Loanding 30 / 123\n",
      "Loanding 40 / 123\n",
      "Loanding 50 / 123\n",
      "Loanding 60 / 123\n",
      "Loanding 70 / 123\n",
      "Loanding 80 / 123\n",
      "Loanding 90 / 123\n",
      "Loanding 100 / 123\n",
      "Loanding 110 / 123\n",
      "Loanding 120 / 123\n",
      "2\n"
     ]
    }
   ],
   "execution_count": 25
  },
  {
   "metadata": {
    "ExecuteTime": {
     "end_time": "2024-05-27T14:55:54.736878Z",
     "start_time": "2024-05-27T14:54:44.113916Z"
    }
   },
   "cell_type": "code",
   "source": [
    "# Step 3: Convert matrices to images and save as PNG\n",
    "for i,filename in enumerate(os.listdir(output_txt)):\n",
    "    file_path = os.path.join(output_txt, filename)\n",
    "    image_output_path = os.path.join(image_path, filename[:-4] + \".png\")\n",
    "    with open(file_path, 'r', encoding='utf-8') as file:\n",
    "        matrix = np.loadtxt(file)\n",
    "    image_data = matrix.astype(np.uint8)\n",
    "    cv2.imwrite(image_output_path, image_data)\n",
    "    if (i+1)%10==0:print(\"Loanding\",i+1,\"/\",len(os.listdir(output_txt)))\n",
    "print(3)"
   ],
   "id": "8a3ac5e3019252d8",
   "outputs": [
    {
     "name": "stdout",
     "output_type": "stream",
     "text": [
      "Loanding 10 / 123\n",
      "Loanding 20 / 123\n",
      "Loanding 30 / 123\n",
      "Loanding 40 / 123\n",
      "Loanding 50 / 123\n",
      "Loanding 60 / 123\n",
      "Loanding 70 / 123\n",
      "Loanding 80 / 123\n",
      "Loanding 90 / 123\n",
      "Loanding 100 / 123\n",
      "Loanding 110 / 123\n",
      "Loanding 120 / 123\n",
      "3\n"
     ]
    }
   ],
   "execution_count": 26
  },
  {
   "metadata": {
    "ExecuteTime": {
     "end_time": "2024-05-27T10:55:11.321927Z",
     "start_time": "2024-05-27T10:55:11.315970Z"
    }
   },
   "cell_type": "code",
   "source": "print('hi')",
   "id": "3490366f06b8f293",
   "outputs": [
    {
     "name": "stdout",
     "output_type": "stream",
     "text": [
      "hi\n"
     ]
    }
   ],
   "execution_count": 1
  },
  {
   "metadata": {
    "ExecuteTime": {
     "end_time": "2024-05-27T10:57:14.422200Z",
     "start_time": "2024-05-27T10:57:14.366365Z"
    }
   },
   "cell_type": "code",
   "source": "print('háudhasud')",
   "id": "70b9bdb9505faa8c",
   "outputs": [
    {
     "name": "stdout",
     "output_type": "stream",
     "text": [
      "háudhasud\n"
     ]
    }
   ],
   "execution_count": 2
  },
  {
   "metadata": {},
   "cell_type": "code",
   "outputs": [],
   "execution_count": null,
   "source": "",
   "id": "ec9b574cb73a3887"
  }
 ],
 "metadata": {
  "kernelspec": {
   "display_name": "Python 3",
   "language": "python",
   "name": "python3"
  },
  "language_info": {
   "codemirror_mode": {
    "name": "ipython",
    "version": 2
   },
   "file_extension": ".py",
   "mimetype": "text/x-python",
   "name": "python",
   "nbconvert_exporter": "python",
   "pygments_lexer": "ipython2",
   "version": "2.7.6"
  }
 },
 "nbformat": 4,
 "nbformat_minor": 5
}
